{
 "cells": [
  {
   "cell_type": "code",
   "execution_count": 3,
   "metadata": {},
   "outputs": [
    {
     "name": "stderr",
     "output_type": "stream",
     "text": [
      "[nltk_data] Downloading package wordnet to\n",
      "[nltk_data]     C:\\Users\\ilans\\AppData\\Roaming\\nltk_data...\n",
      "[nltk_data]   Package wordnet is already up-to-date!\n"
     ]
    }
   ],
   "source": [
    "import nltk\n",
    "from nltk.tokenize import word_tokenize\n",
    "from collections import Counter\n",
    "nltk.download('wordnet')      #download if using this module for the first time\n",
    "\n",
    "\n",
    "from nltk.stem import WordNetLemmatizer \n",
    "from nltk.corpus import stopwords\n",
    "\n",
    "\n",
    "#download if using this module for the first time\n",
    "\n",
    "\n",
    "#For Gensim\n",
    "import gensim\n",
    "import string\n",
    "from gensim import corpora\n",
    "from gensim.corpora.dictionary import Dictionary\n",
    "from nltk.tokenize import word_tokenize\n",
    "\n",
    "text1='The hotel messed up on the booking and then wanted to change the rate. Very sketchy and terrible customer service. The manager did not want to honor what the rate had been and instead upcharge which is terrible.'\n",
    "tokens = word_tokenize(text1)\n",
    "lowercase_tokens = [t.lower() for t in tokens]\n",
    "\n",
    "\n",
    "bagofwords_1 = Counter(lowercase_tokens)\n",
    "\n",
    "\n",
    "alphabets = [t for t in lowercase_tokens if t.isalpha()]\n",
    "\n",
    "words = stopwords.words(\"english\")\n",
    "stopwords_removed = [t for t in alphabets if t not in words]\n",
    "\n",
    "\n",
    "lemmatizer = WordNetLemmatizer()\n",
    "\n",
    "lem_tokens = [lemmatizer.lemmatize(t) for t in stopwords_removed]\n",
    "\n",
    "bag_words = Counter(lem_tokens)\n",
    "\n",
    "\n",
    "import pandas as pd\n",
    "new_reviews = pd.read_excel (r'C:\\\\Users\\\\ilans\\\\Documents\\\\Studies\\\\Semester 5\\\\Final Project\\\\\\Reviews\\\\categories3.xlsx')\n",
    "NR=new_reviews.head()\n",
    "\n",
    "\n"
   ]
  },
  {
   "cell_type": "code",
   "execution_count": 13,
   "metadata": {},
   "outputs": [
    {
     "name": "stdout",
     "output_type": "stream",
     "text": [
      "22165\n"
     ]
    }
   ],
   "source": [
    "test_results=[]\n",
    "for review in new_reviews['title']:\n",
    "    if(len(review)>20):\n",
    "    \n",
    "        from nltk.corpus import stopwords\n",
    "        compilecomm=[review]\n",
    "        stopwords = set(stopwords.words('english'))\n",
    "        exclude = set(string.punctuation)\n",
    "        lemma = WordNetLemmatizer()\n",
    "\n",
    "        def clean(document):\n",
    "            stopwordremoval = \" \".join([i for i in document.lower().split() if i not in stopwords])\n",
    "            punctuationremoval = ''.join(ch for ch in stopwordremoval if ch not in exclude)\n",
    "            normalized = \" \".join(lemma.lemmatize(word) for word in punctuationremoval.split())\n",
    "            return normalized\n",
    "\n",
    "        final_comment = [clean(document).split() for document in compilecomm]\n",
    "\n",
    "        dictionary = corpora.Dictionary(final_comment)\n",
    "\n",
    "        DT_matrix = [dictionary.doc2bow(doc) for doc in final_comment]\n",
    "\n",
    "        Lda_object = gensim.models.ldamodel.LdaModel\n",
    "\n",
    "        lda_model_1 = Lda_object(DT_matrix, num_topics=1, id2word = dictionary)\n",
    "\n",
    "        topics=lda_model_1.print_topics(num_topics=1, num_words=1)\n",
    "        index=topics[0][1].index('*')\n",
    "        test_results.append(topics[0][1][index+1:])\n",
    "print(len(test_results))"
   ]
  },
  {
   "cell_type": "code",
   "execution_count": 14,
   "metadata": {},
   "outputs": [
    {
     "ename": "ValueError",
     "evalue": "Length of values does not match length of index",
     "output_type": "error",
     "traceback": [
      "\u001b[1;31m---------------------------------------------------------------------------\u001b[0m",
      "\u001b[1;31mValueError\u001b[0m                                Traceback (most recent call last)",
      "\u001b[1;32m<ipython-input-14-b8576f823801>\u001b[0m in \u001b[0;36m<module>\u001b[1;34m\u001b[0m\n\u001b[1;32m----> 1\u001b[1;33m \u001b[0mnew_reviews\u001b[0m\u001b[1;33m[\u001b[0m\u001b[1;34m'subject6'\u001b[0m\u001b[1;33m]\u001b[0m\u001b[1;33m=\u001b[0m\u001b[0mtest_results\u001b[0m\u001b[1;33m\u001b[0m\u001b[1;33m\u001b[0m\u001b[0m\n\u001b[0m",
      "\u001b[1;32m~\\anaconda3\\lib\\site-packages\\pandas\\core\\frame.py\u001b[0m in \u001b[0;36m__setitem__\u001b[1;34m(self, key, value)\u001b[0m\n\u001b[0;32m   2936\u001b[0m         \u001b[1;32melse\u001b[0m\u001b[1;33m:\u001b[0m\u001b[1;33m\u001b[0m\u001b[1;33m\u001b[0m\u001b[0m\n\u001b[0;32m   2937\u001b[0m             \u001b[1;31m# set column\u001b[0m\u001b[1;33m\u001b[0m\u001b[1;33m\u001b[0m\u001b[1;33m\u001b[0m\u001b[0m\n\u001b[1;32m-> 2938\u001b[1;33m             \u001b[0mself\u001b[0m\u001b[1;33m.\u001b[0m\u001b[0m_set_item\u001b[0m\u001b[1;33m(\u001b[0m\u001b[0mkey\u001b[0m\u001b[1;33m,\u001b[0m \u001b[0mvalue\u001b[0m\u001b[1;33m)\u001b[0m\u001b[1;33m\u001b[0m\u001b[1;33m\u001b[0m\u001b[0m\n\u001b[0m\u001b[0;32m   2939\u001b[0m \u001b[1;33m\u001b[0m\u001b[0m\n\u001b[0;32m   2940\u001b[0m     \u001b[1;32mdef\u001b[0m \u001b[0m_setitem_slice\u001b[0m\u001b[1;33m(\u001b[0m\u001b[0mself\u001b[0m\u001b[1;33m,\u001b[0m \u001b[0mkey\u001b[0m\u001b[1;33m,\u001b[0m \u001b[0mvalue\u001b[0m\u001b[1;33m)\u001b[0m\u001b[1;33m:\u001b[0m\u001b[1;33m\u001b[0m\u001b[1;33m\u001b[0m\u001b[0m\n",
      "\u001b[1;32m~\\anaconda3\\lib\\site-packages\\pandas\\core\\frame.py\u001b[0m in \u001b[0;36m_set_item\u001b[1;34m(self, key, value)\u001b[0m\n\u001b[0;32m   2998\u001b[0m \u001b[1;33m\u001b[0m\u001b[0m\n\u001b[0;32m   2999\u001b[0m         \u001b[0mself\u001b[0m\u001b[1;33m.\u001b[0m\u001b[0m_ensure_valid_index\u001b[0m\u001b[1;33m(\u001b[0m\u001b[0mvalue\u001b[0m\u001b[1;33m)\u001b[0m\u001b[1;33m\u001b[0m\u001b[1;33m\u001b[0m\u001b[0m\n\u001b[1;32m-> 3000\u001b[1;33m         \u001b[0mvalue\u001b[0m \u001b[1;33m=\u001b[0m \u001b[0mself\u001b[0m\u001b[1;33m.\u001b[0m\u001b[0m_sanitize_column\u001b[0m\u001b[1;33m(\u001b[0m\u001b[0mkey\u001b[0m\u001b[1;33m,\u001b[0m \u001b[0mvalue\u001b[0m\u001b[1;33m)\u001b[0m\u001b[1;33m\u001b[0m\u001b[1;33m\u001b[0m\u001b[0m\n\u001b[0m\u001b[0;32m   3001\u001b[0m         \u001b[0mNDFrame\u001b[0m\u001b[1;33m.\u001b[0m\u001b[0m_set_item\u001b[0m\u001b[1;33m(\u001b[0m\u001b[0mself\u001b[0m\u001b[1;33m,\u001b[0m \u001b[0mkey\u001b[0m\u001b[1;33m,\u001b[0m \u001b[0mvalue\u001b[0m\u001b[1;33m)\u001b[0m\u001b[1;33m\u001b[0m\u001b[1;33m\u001b[0m\u001b[0m\n\u001b[0;32m   3002\u001b[0m \u001b[1;33m\u001b[0m\u001b[0m\n",
      "\u001b[1;32m~\\anaconda3\\lib\\site-packages\\pandas\\core\\frame.py\u001b[0m in \u001b[0;36m_sanitize_column\u001b[1;34m(self, key, value, broadcast)\u001b[0m\n\u001b[0;32m   3634\u001b[0m \u001b[1;33m\u001b[0m\u001b[0m\n\u001b[0;32m   3635\u001b[0m             \u001b[1;31m# turn me into an ndarray\u001b[0m\u001b[1;33m\u001b[0m\u001b[1;33m\u001b[0m\u001b[1;33m\u001b[0m\u001b[0m\n\u001b[1;32m-> 3636\u001b[1;33m             \u001b[0mvalue\u001b[0m \u001b[1;33m=\u001b[0m \u001b[0msanitize_index\u001b[0m\u001b[1;33m(\u001b[0m\u001b[0mvalue\u001b[0m\u001b[1;33m,\u001b[0m \u001b[0mself\u001b[0m\u001b[1;33m.\u001b[0m\u001b[0mindex\u001b[0m\u001b[1;33m,\u001b[0m \u001b[0mcopy\u001b[0m\u001b[1;33m=\u001b[0m\u001b[1;32mFalse\u001b[0m\u001b[1;33m)\u001b[0m\u001b[1;33m\u001b[0m\u001b[1;33m\u001b[0m\u001b[0m\n\u001b[0m\u001b[0;32m   3637\u001b[0m             \u001b[1;32mif\u001b[0m \u001b[1;32mnot\u001b[0m \u001b[0misinstance\u001b[0m\u001b[1;33m(\u001b[0m\u001b[0mvalue\u001b[0m\u001b[1;33m,\u001b[0m \u001b[1;33m(\u001b[0m\u001b[0mnp\u001b[0m\u001b[1;33m.\u001b[0m\u001b[0mndarray\u001b[0m\u001b[1;33m,\u001b[0m \u001b[0mIndex\u001b[0m\u001b[1;33m)\u001b[0m\u001b[1;33m)\u001b[0m\u001b[1;33m:\u001b[0m\u001b[1;33m\u001b[0m\u001b[1;33m\u001b[0m\u001b[0m\n\u001b[0;32m   3638\u001b[0m                 \u001b[1;32mif\u001b[0m \u001b[0misinstance\u001b[0m\u001b[1;33m(\u001b[0m\u001b[0mvalue\u001b[0m\u001b[1;33m,\u001b[0m \u001b[0mlist\u001b[0m\u001b[1;33m)\u001b[0m \u001b[1;32mand\u001b[0m \u001b[0mlen\u001b[0m\u001b[1;33m(\u001b[0m\u001b[0mvalue\u001b[0m\u001b[1;33m)\u001b[0m \u001b[1;33m>\u001b[0m \u001b[1;36m0\u001b[0m\u001b[1;33m:\u001b[0m\u001b[1;33m\u001b[0m\u001b[1;33m\u001b[0m\u001b[0m\n",
      "\u001b[1;32m~\\anaconda3\\lib\\site-packages\\pandas\\core\\internals\\construction.py\u001b[0m in \u001b[0;36msanitize_index\u001b[1;34m(data, index, copy)\u001b[0m\n\u001b[0;32m    609\u001b[0m \u001b[1;33m\u001b[0m\u001b[0m\n\u001b[0;32m    610\u001b[0m     \u001b[1;32mif\u001b[0m \u001b[0mlen\u001b[0m\u001b[1;33m(\u001b[0m\u001b[0mdata\u001b[0m\u001b[1;33m)\u001b[0m \u001b[1;33m!=\u001b[0m \u001b[0mlen\u001b[0m\u001b[1;33m(\u001b[0m\u001b[0mindex\u001b[0m\u001b[1;33m)\u001b[0m\u001b[1;33m:\u001b[0m\u001b[1;33m\u001b[0m\u001b[1;33m\u001b[0m\u001b[0m\n\u001b[1;32m--> 611\u001b[1;33m         \u001b[1;32mraise\u001b[0m \u001b[0mValueError\u001b[0m\u001b[1;33m(\u001b[0m\u001b[1;34m\"Length of values does not match length of index\"\u001b[0m\u001b[1;33m)\u001b[0m\u001b[1;33m\u001b[0m\u001b[1;33m\u001b[0m\u001b[0m\n\u001b[0m\u001b[0;32m    612\u001b[0m \u001b[1;33m\u001b[0m\u001b[0m\n\u001b[0;32m    613\u001b[0m     \u001b[1;32mif\u001b[0m \u001b[0misinstance\u001b[0m\u001b[1;33m(\u001b[0m\u001b[0mdata\u001b[0m\u001b[1;33m,\u001b[0m \u001b[0mABCIndexClass\u001b[0m\u001b[1;33m)\u001b[0m \u001b[1;32mand\u001b[0m \u001b[1;32mnot\u001b[0m \u001b[0mcopy\u001b[0m\u001b[1;33m:\u001b[0m\u001b[1;33m\u001b[0m\u001b[1;33m\u001b[0m\u001b[0m\n",
      "\u001b[1;31mValueError\u001b[0m: Length of values does not match length of index"
     ]
    }
   ],
   "source": [
    "new_reviews['subject6']=test_results"
   ]
  },
  {
   "cell_type": "code",
   "execution_count": 79,
   "metadata": {},
   "outputs": [
    {
     "data": {
      "text/plain": [
       "25875"
      ]
     },
     "execution_count": 79,
     "metadata": {},
     "output_type": "execute_result"
    }
   ],
   "source": [
    "cnt=0\n",
    "cnt2=0\n",
    "for i in range(len(new_reviews['subject1'])):\n",
    "    if new_reviews['subject1'][i]==new_reviews['subject2'][i]:\n",
    "        cnt=cnt+1\n",
    "    if new_reviews['subject2'][i]==new_reviews['subject3'][i]:\n",
    "        cnt2=cnt2+1\n",
    "cnt        "
   ]
  },
  {
   "cell_type": "code",
   "execution_count": 15,
   "metadata": {},
   "outputs": [
    {
     "data": {
      "text/html": [
       "<div>\n",
       "<style scoped>\n",
       "    .dataframe tbody tr th:only-of-type {\n",
       "        vertical-align: middle;\n",
       "    }\n",
       "\n",
       "    .dataframe tbody tr th {\n",
       "        vertical-align: top;\n",
       "    }\n",
       "\n",
       "    .dataframe thead th {\n",
       "        text-align: right;\n",
       "    }\n",
       "</style>\n",
       "<table border=\"1\" class=\"dataframe\">\n",
       "  <thead>\n",
       "    <tr style=\"text-align: right;\">\n",
       "      <th></th>\n",
       "      <th>Unnamed: 0</th>\n",
       "      <th>Unnamed: 0.1</th>\n",
       "      <th>Unnamed: 0.1.1</th>\n",
       "      <th>name</th>\n",
       "      <th>title</th>\n",
       "      <th>desc</th>\n",
       "      <th>user</th>\n",
       "      <th>reliability</th>\n",
       "      <th>subject1</th>\n",
       "      <th>subject2</th>\n",
       "      <th>subject3</th>\n",
       "      <th>subject4</th>\n",
       "      <th>subject5</th>\n",
       "    </tr>\n",
       "  </thead>\n",
       "  <tbody>\n",
       "    <tr>\n",
       "      <th>0</th>\n",
       "      <td>0</td>\n",
       "      <td>0</td>\n",
       "      <td>0</td>\n",
       "      <td>Shoreham</td>\n",
       "      <td>Booking messed up</td>\n",
       "      <td>The hotel messed up on the booking and then wa...</td>\n",
       "      <td>sarahpustilnik</td>\n",
       "      <td>truth</td>\n",
       "      <td>price</td>\n",
       "      <td>general</td>\n",
       "      <td>general</td>\n",
       "      <td>\"rate\"</td>\n",
       "      <td>\"rate\"</td>\n",
       "    </tr>\n",
       "    <tr>\n",
       "      <th>1</th>\n",
       "      <td>1</td>\n",
       "      <td>1</td>\n",
       "      <td>1</td>\n",
       "      <td>Shoreham</td>\n",
       "      <td>Couples 1 Night Stay</td>\n",
       "      <td>The room was ok, a little smaller than expecte...</td>\n",
       "      <td>Alive1017</td>\n",
       "      <td>truth</td>\n",
       "      <td>\"discreet\"</td>\n",
       "      <td>location</td>\n",
       "      <td>service</td>\n",
       "      <td>\"smoking\"</td>\n",
       "      <td>\"con\"</td>\n",
       "    </tr>\n",
       "    <tr>\n",
       "      <th>2</th>\n",
       "      <td>2</td>\n",
       "      <td>2</td>\n",
       "      <td>2</td>\n",
       "      <td>Shoreham</td>\n",
       "      <td>Great stay</td>\n",
       "      <td>Staff was great and helpful with everything. T...</td>\n",
       "      <td>britpaco24</td>\n",
       "      <td>truth</td>\n",
       "      <td>general</td>\n",
       "      <td>\"“cozy”\"</td>\n",
       "      <td>general</td>\n",
       "      <td>\"everything\"</td>\n",
       "      <td>\"small\"</td>\n",
       "    </tr>\n",
       "    <tr>\n",
       "      <th>3</th>\n",
       "      <td>3</td>\n",
       "      <td>3</td>\n",
       "      <td>3</td>\n",
       "      <td>Shoreham</td>\n",
       "      <td>Great Staff, Cleanliness could have been better!</td>\n",
       "      <td>Amazing staff, they were extremely helpful and...</td>\n",
       "      <td>mrsrush0109</td>\n",
       "      <td>truth</td>\n",
       "      <td>room</td>\n",
       "      <td>room</td>\n",
       "      <td>room</td>\n",
       "      <td>\"bed\"</td>\n",
       "      <td>\"bed\"</td>\n",
       "    </tr>\n",
       "    <tr>\n",
       "      <th>4</th>\n",
       "      <td>4</td>\n",
       "      <td>4</td>\n",
       "      <td>4</td>\n",
       "      <td>Shoreham</td>\n",
       "      <td>Wow, there is just no way</td>\n",
       "      <td>There is no way this is a four star accommodat...</td>\n",
       "      <td>Cruiser550427</td>\n",
       "      <td>truth</td>\n",
       "      <td>room</td>\n",
       "      <td>room</td>\n",
       "      <td>room</td>\n",
       "      <td>\"room\"</td>\n",
       "      <td>\"like\"</td>\n",
       "    </tr>\n",
       "  </tbody>\n",
       "</table>\n",
       "</div>"
      ],
      "text/plain": [
       "   Unnamed: 0  Unnamed: 0.1  Unnamed: 0.1.1      name  \\\n",
       "0           0             0               0  Shoreham   \n",
       "1           1             1               1  Shoreham   \n",
       "2           2             2               2  Shoreham   \n",
       "3           3             3               3  Shoreham   \n",
       "4           4             4               4  Shoreham   \n",
       "\n",
       "                                              title  \\\n",
       "0                                 Booking messed up   \n",
       "1                              Couples 1 Night Stay   \n",
       "2                                        Great stay   \n",
       "3  Great Staff, Cleanliness could have been better!   \n",
       "4                         Wow, there is just no way   \n",
       "\n",
       "                                                desc            user  \\\n",
       "0  The hotel messed up on the booking and then wa...  sarahpustilnik   \n",
       "1  The room was ok, a little smaller than expecte...       Alive1017   \n",
       "2  Staff was great and helpful with everything. T...      britpaco24   \n",
       "3  Amazing staff, they were extremely helpful and...     mrsrush0109   \n",
       "4  There is no way this is a four star accommodat...   Cruiser550427   \n",
       "\n",
       "  reliability    subject1  subject2 subject3      subject4 subject5  \n",
       "0       truth       price   general  general        \"rate\"   \"rate\"  \n",
       "1       truth  \"discreet\"  location  service     \"smoking\"    \"con\"  \n",
       "2       truth     general  \"“cozy”\"  general  \"everything\"  \"small\"  \n",
       "3       truth        room      room     room         \"bed\"    \"bed\"  \n",
       "4       truth        room      room     room        \"room\"   \"like\"  "
      ]
     },
     "execution_count": 15,
     "metadata": {},
     "output_type": "execute_result"
    }
   ],
   "source": [
    "new_reviews.head()"
   ]
  },
  {
   "cell_type": "code",
   "execution_count": 16,
   "metadata": {},
   "outputs": [],
   "source": [
    "new_reviews.to_excel(r'C:\\\\Users\\\\ilans\\\\Documents\\\\Studies\\\\Semester 5\\\\Final Project\\\\\\Reviews\\\\categories4.xlsx')"
   ]
  },
  {
   "cell_type": "code",
   "execution_count": null,
   "metadata": {},
   "outputs": [],
   "source": []
  }
 ],
 "metadata": {
  "kernelspec": {
   "display_name": "Python 3",
   "language": "python",
   "name": "python3"
  },
  "language_info": {
   "codemirror_mode": {
    "name": "ipython",
    "version": 3
   },
   "file_extension": ".py",
   "mimetype": "text/x-python",
   "name": "python",
   "nbconvert_exporter": "python",
   "pygments_lexer": "ipython3",
   "version": "3.7.6"
  }
 },
 "nbformat": 4,
 "nbformat_minor": 4
}
